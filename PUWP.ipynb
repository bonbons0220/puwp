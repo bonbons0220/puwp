{
 "cells": [
  {
   "cell_type": "markdown",
   "metadata": {
    "deletable": true,
    "editable": true
   },
   "source": [
    "# PUWP-setup.ipynb\n",
    "Set up parameters for pushing Wordpress. For Python 2."
   ]
  },
  {
   "cell_type": "markdown",
   "metadata": {
    "deletable": true,
    "editable": true
   },
   "source": [
    "## Overview\n",
    "This notebook reads and writes an input parameter file to run push-wordpress.ipynb."
   ]
  },
  {
   "cell_type": "code",
   "execution_count": 1,
   "metadata": {
    "collapsed": false,
    "deletable": true,
    "editable": true
   },
   "outputs": [],
   "source": [
    "import lib.paramio as paramio"
   ]
  },
  {
   "cell_type": "markdown",
   "metadata": {
    "deletable": true,
    "editable": true
   },
   "source": [
    "## Data"
   ]
  },
  {
   "cell_type": "code",
   "execution_count": 2,
   "metadata": {
    "collapsed": false,
    "deletable": true,
    "editable": true
   },
   "outputs": [],
   "source": [
    "data={\n",
    "    '1targetdomain' : { \n",
    "        'label' : 'Target domain: ',\n",
    "        'value' : 'www.example.org' } ,\n",
    "    '2sourcedomain' : { \n",
    "        'label' : 'Source domain: ',\n",
    "        'value'\t: 'test.example.org' } ,\n",
    "    '3targetpath'   : { \n",
    "        'label' : 'Target path: ',\n",
    "        'value'\t: '/var/www/example.org/prod' },\n",
    "    '4sourcepath'   : { \n",
    "        'label' : 'Source path: ',\n",
    "        'value'\t: '/var/www/example.org/test' },\n",
    "    '5deploypath'   : {\t\n",
    "        'label' : 'Deploy path: ',\n",
    "        'value'\t: '/var/www/example.org/deploy' },\n",
    "    '6targetDB'     : { \n",
    "        'label' : 'Target database: ',\n",
    "        'value'\t: 'examplewp_prod ' },\n",
    "    '7sourceDB'     : { \n",
    "        'label' : 'Source database: ',\n",
    "        'value'\t: 'examplewp_test' } \n",
    "}\n",
    "\n",
    "menu = {'R':'[Read input parameters]',\n",
    "       'E':'[E]dit input parameters',\n",
    "       'W':'[W]rite input parameters',\n",
    "       'X':'E[X]it'}\n",
    "\n"
   ]
  },
  {
   "cell_type": "markdown",
   "metadata": {
    "collapsed": true,
    "deletable": true,
    "editable": true
   },
   "source": [
    "## Main"
   ]
  },
  {
   "cell_type": "code",
   "execution_count": 3,
   "metadata": {
    "collapsed": false,
    "deletable": true,
    "editable": true
   },
   "outputs": [
    {
     "name": "stdout",
     "output_type": "stream",
     "text": [
      "\n",
      "Parameters: \n",
      "\n",
      "Target domain:  : www.example.org\n",
      "Source domain:  : test.example.org\n",
      "Target path:  : /var/www/example.org/prod\n",
      "Source path:  : /var/www/example.org/test\n",
      "Deploy path:  : /var/www/example.org/deploy\n",
      "Target database:  : examplewp_prod \n",
      "Source database:  : examplewp_test\n",
      "\n",
      "\n",
      "X : E[X]it\n",
      "R : [Read input parameters]\n",
      "E : [E]dit input parameters\n",
      "W : [W]rite input parameters\n",
      "Choose an option: [X]\n",
      "R\n",
      "Enter parameter filename [defaults.yaml]sdss.yaml\n"
     ]
    },
    {
     "ename": "AttributeError",
     "evalue": "'module' object has no attribute 'open'",
     "output_type": "error",
     "traceback": [
      "\u001b[1;31m\u001b[0m",
      "\u001b[1;31mAttributeError\u001b[0mTraceback (most recent call last)",
      "\u001b[1;32m<ipython-input-3-602d8c722152>\u001b[0m in \u001b[0;36m<module>\u001b[1;34m()\u001b[0m\n\u001b[0;32m      9\u001b[0m \u001b[1;33m\u001b[0m\u001b[0m\n\u001b[0;32m     10\u001b[0m     \u001b[1;32mif\u001b[0m \u001b[1;33m(\u001b[0m\u001b[0moption\u001b[0m\u001b[1;33m)\u001b[0m \u001b[1;33m==\u001b[0m \u001b[1;34m'R'\u001b[0m \u001b[1;33m:\u001b[0m\u001b[1;33m\u001b[0m\u001b[0m\n\u001b[1;32m---> 11\u001b[1;33m         \u001b[0mdata\u001b[0m \u001b[1;33m=\u001b[0m \u001b[0mparamio\u001b[0m\u001b[1;33m.\u001b[0m\u001b[0mreadparam\u001b[0m\u001b[1;33m(\u001b[0m\u001b[1;33m)\u001b[0m\u001b[1;33m\u001b[0m\u001b[0m\n\u001b[0m\u001b[0;32m     12\u001b[0m \u001b[1;33m\u001b[0m\u001b[0m\n\u001b[0;32m     13\u001b[0m     \u001b[1;32mif\u001b[0m \u001b[1;33m(\u001b[0m\u001b[0moption\u001b[0m\u001b[1;33m)\u001b[0m \u001b[1;33m==\u001b[0m \u001b[1;34m'W'\u001b[0m \u001b[1;33m:\u001b[0m\u001b[1;33m\u001b[0m\u001b[0m\n",
      "\u001b[1;32mh:\\notebooks\\puwp\\lib\\paramio.pyc\u001b[0m in \u001b[0;36mreadparam\u001b[1;34m()\u001b[0m\n\u001b[0;32m     64\u001b[0m \u001b[1;33m\u001b[0m\u001b[0m\n\u001b[0;32m     65\u001b[0m     \u001b[1;31m# Read YAML file\u001b[0m\u001b[1;33m\u001b[0m\u001b[1;33m\u001b[0m\u001b[0m\n\u001b[1;32m---> 66\u001b[1;33m     \u001b[1;32mwith\u001b[0m \u001b[0mio\u001b[0m\u001b[1;33m.\u001b[0m\u001b[0mopen\u001b[0m\u001b[1;33m(\u001b[0m \u001b[0mdatafile\u001b[0m \u001b[1;33m,\u001b[0m \u001b[1;34m'r'\u001b[0m\u001b[1;33m)\u001b[0m \u001b[1;32mas\u001b[0m \u001b[0mstream\u001b[0m\u001b[1;33m:\u001b[0m\u001b[1;33m\u001b[0m\u001b[0m\n\u001b[0m\u001b[0;32m     67\u001b[0m         \u001b[1;32mtry\u001b[0m\u001b[1;33m:\u001b[0m\u001b[1;33m\u001b[0m\u001b[0m\n\u001b[0;32m     68\u001b[0m             \u001b[0mdata\u001b[0m \u001b[1;33m=\u001b[0m \u001b[0myaml\u001b[0m\u001b[1;33m.\u001b[0m\u001b[0mload\u001b[0m\u001b[1;33m(\u001b[0m\u001b[0mstream\u001b[0m\u001b[1;33m)\u001b[0m\u001b[1;33m\u001b[0m\u001b[0m\n",
      "\u001b[1;31mAttributeError\u001b[0m: 'module' object has no attribute 'open'"
     ]
    }
   ],
   "source": [
    "# main loop\n",
    "while (True):\n",
    "\n",
    "    # show parameters\n",
    "    paramio.editparam(False,data)\n",
    "    \n",
    "    # show menu\n",
    "    option = paramio.showmenu(menu)\n",
    "    \n",
    "    if (option) == 'R' : \n",
    "        data = paramio.readparam()\n",
    "\n",
    "    if (option) == 'W' : \n",
    "        paramio.writeparam( data )\n",
    "        \n",
    "    if (option) == 'E' : \n",
    "        data = paramio.editparam(True,data)\n",
    "        \n",
    "    if (option) == 'X': break\n"
   ]
  },
  {
   "cell_type": "code",
   "execution_count": null,
   "metadata": {
    "collapsed": true,
    "deletable": true,
    "editable": true
   },
   "outputs": [],
   "source": []
  }
 ],
 "metadata": {
  "kernelspec": {
   "display_name": "Python 2",
   "language": "python",
   "name": "python2"
  },
  "language_info": {
   "codemirror_mode": {
    "name": "ipython",
    "version": 2
   },
   "file_extension": ".py",
   "mimetype": "text/x-python",
   "name": "python",
   "nbconvert_exporter": "python",
   "pygments_lexer": "ipython2",
   "version": "2.7.13"
  }
 },
 "nbformat": 4,
 "nbformat_minor": 2
}
