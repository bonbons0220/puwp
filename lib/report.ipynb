{
 "cells": [
  {
   "cell_type": "markdown",
   "metadata": {
    "deletable": true,
    "editable": true
   },
   "source": [
    "# PUWP-Report"
   ]
  },
  {
   "cell_type": "code",
   "execution_count": 1,
   "metadata": {
    "collapsed": true,
    "deletable": true,
    "editable": true
   },
   "outputs": [],
   "source": [
    "import PUWPlib"
   ]
  },
  {
   "cell_type": "code",
   "execution_count": null,
   "metadata": {
    "collapsed": true
   },
   "outputs": [],
   "source": [
    "from git import Repo"
   ]
  },
  {
   "cell_type": "code",
   "execution_count": 11,
   "metadata": {
    "collapsed": false
   },
   "outputs": [],
   "source": [
    "Repo?"
   ]
  },
  {
   "cell_type": "markdown",
   "metadata": {
    "deletable": true,
    "editable": true
   },
   "source": [
    "## Overview\n",
    "Reads a parameter file and generates a pre-push report on the website to be pushed."
   ]
  },
  {
   "cell_type": "markdown",
   "metadata": {
    "deletable": true,
    "editable": true
   },
   "source": [
    "## Functions"
   ]
  },
  {
   "cell_type": "code",
   "execution_count": 2,
   "metadata": {
    "collapsed": true,
    "deletable": true,
    "editable": true
   },
   "outputs": [],
   "source": [
    "def writereport( report ):\n",
    "    \"\"\"Write report to file.\"\"\"\n",
    "    \n",
    "    print(\"not yet implemented\")"
   ]
  },
  {
   "cell_type": "code",
   "execution_count": 7,
   "metadata": {
    "collapsed": true,
    "deletable": true,
    "editable": true
   },
   "outputs": [],
   "source": [
    "def generatereport(data):\n",
    "    \"\"\"Generate a pre-push report on website status\"\"\"\n",
    "    \n",
    "    \n",
    "\n",
    "    report = {\n",
    "        \"Report\":data\n",
    "    }\n",
    "    return report"
   ]
  },
  {
   "cell_type": "markdown",
   "metadata": {
    "deletable": true,
    "editable": true
   },
   "source": [
    "## Data"
   ]
  },
  {
   "cell_type": "code",
   "execution_count": 9,
   "metadata": {
    "collapsed": false,
    "deletable": true,
    "editable": true
   },
   "outputs": [],
   "source": [
    "menu = {'O':'[O]pen Parameters File',\n",
    "       'R':'Generate [R]eport',\n",
    "       'P':'[P]rint Parameters',\n",
    "       'S':'[S]ave Report',\n",
    "       'X':'E[X]it'}\n",
    "\n",
    "x = datetime.datetime.now()\n",
    "timestamp = str(x.year) + str(x.month) + str(x.day) + '_' + str(x.hour) + str(x.minute)"
   ]
  },
  {
   "cell_type": "markdown",
   "metadata": {
    "deletable": true,
    "editable": true
   },
   "source": [
    "## Main"
   ]
  },
  {
   "cell_type": "code",
   "execution_count": 12,
   "metadata": {
    "collapsed": false,
    "deletable": true,
    "editable": true
   },
   "outputs": [
    {
     "name": "stdout",
     "output_type": "stream",
     "text": [
      "\n",
      "\n",
      "R : Generate [R]eport\n",
      "O : [O]pen Parameters File\n",
      "P : [P]rint Parameters\n",
      "S : [S]ave Report\n",
      "X : E[X]it\n",
      "Choose an option: [O]\n",
      "P\n",
      "Target domain:  : www.sdss.org\n",
      "Source domain:  : test.sdss.org\n",
      "Target path:  : /var/www/sdss.org/prod\n",
      "Source path:  : /var/www/sdss.org/test\n",
      "Deploy path:  : /var/www/sdss.org/deploy\n",
      "Target database:  : sdsswp_dr15\n",
      "Source database:  : sdsswp_dr15_test\n",
      "\n",
      "\n",
      "R : Generate [R]eport\n",
      "O : [O]pen Parameters File\n",
      "P : [P]rint Parameters\n",
      "S : [S]ave Report\n",
      "X : E[X]it\n",
      "Choose an option: [O]\n",
      "X\n"
     ]
    }
   ],
   "source": [
    "\"\"\"Reads a parameter file and generates a pre-push report on the website to be pushed.\"\"\"\n",
    "# main loop\n",
    "while (True):\n",
    "\n",
    "    # show menu\n",
    "    option = showmenu(menu,'O')\n",
    "    \n",
    "    if (option) == 'O' : \n",
    "        data = readparam()\n",
    "        printparam(data)\n",
    "\n",
    "    if (option) == 'P' : \n",
    "        report = printparam(data)\n",
    "        \n",
    "    if (option) == 'R' : \n",
    "        report = generatereport(True)\n",
    "        \n",
    "    if (option) == 'S' : \n",
    "        savereport( report )\n",
    "        \n",
    "    if (option) == 'X': break\n"
   ]
  },
  {
   "cell_type": "code",
   "execution_count": 17,
   "metadata": {
    "collapsed": true,
    "deletable": true,
    "editable": true
   },
   "outputs": [],
   "source": [
    "from git import Repo\n",
    "import os"
   ]
  },
  {
   "cell_type": "code",
   "execution_count": 19,
   "metadata": {
    "collapsed": true,
    "deletable": true,
    "editable": true
   },
   "outputs": [],
   "source": [
    "Repo?"
   ]
  },
  {
   "cell_type": "code",
   "execution_count": 18,
   "metadata": {
    "collapsed": false,
    "deletable": true,
    "editable": true
   },
   "outputs": [
    {
     "ename": "NameError",
     "evalue": "name 'self' is not defined",
     "output_type": "error",
     "traceback": [
      "\u001b[1;31m---------------------------------------------------------------------------\u001b[0m",
      "\u001b[1;31mNameError\u001b[0m                                 Traceback (most recent call last)",
      "\u001b[1;32m<ipython-input-18-6bd56c6ea36f>\u001b[0m in \u001b[0;36m<module>\u001b[1;34m()\u001b[0m\n\u001b[0;32m      4\u001b[0m \u001b[1;31m# For all you know, the first argument to Repo is a path to the repository\u001b[0m\u001b[1;33m\u001b[0m\u001b[1;33m\u001b[0m\u001b[0m\n\u001b[0;32m      5\u001b[0m \u001b[1;31m# you want to work with\u001b[0m\u001b[1;33m\u001b[0m\u001b[1;33m\u001b[0m\u001b[0m\n\u001b[1;32m----> 6\u001b[1;33m \u001b[0mrepo\u001b[0m \u001b[1;33m=\u001b[0m \u001b[0mRepo\u001b[0m\u001b[1;33m(\u001b[0m\u001b[0mself\u001b[0m\u001b[1;33m.\u001b[0m\u001b[0mrorepo\u001b[0m\u001b[1;33m.\u001b[0m\u001b[0mworking_tree_dir\u001b[0m\u001b[1;33m)\u001b[0m\u001b[1;33m\u001b[0m\u001b[0m\n\u001b[0m\u001b[0;32m      7\u001b[0m \u001b[1;32massert\u001b[0m \u001b[1;32mnot\u001b[0m \u001b[0mrepo\u001b[0m\u001b[1;33m.\u001b[0m\u001b[0mbare\u001b[0m\u001b[1;33m\u001b[0m\u001b[0m\n",
      "\u001b[1;31mNameError\u001b[0m: name 'self' is not defined"
     ]
    }
   ],
   "source": [
    "join = os.path.join\n",
    "\n",
    "# rorepo is a a Repo instance pointing to the git-python repository.\n",
    "# For all you know, the first argument to Repo is a path to the repository\n",
    "# you want to work with\n",
    "repo = Repo(self.rorepo.working_tree_dir)\n",
    "assert not repo.bare"
   ]
  },
  {
   "cell_type": "code",
   "execution_count": null,
   "metadata": {
    "collapsed": true,
    "deletable": true,
    "editable": true
   },
   "outputs": [],
   "source": []
  }
 ],
 "metadata": {
  "kernelspec": {
   "display_name": "Python 2",
   "language": "python",
   "name": "python2"
  },
  "language_info": {
   "codemirror_mode": {
    "name": "ipython",
    "version": 2
   },
   "file_extension": ".py",
   "mimetype": "text/x-python",
   "name": "python",
   "nbconvert_exporter": "python",
   "pygments_lexer": "ipython2",
   "version": "2.7.13"
  }
 },
 "nbformat": 4,
 "nbformat_minor": 2
}
