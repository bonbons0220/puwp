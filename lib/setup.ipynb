{
 "cells": [
  {
   "cell_type": "markdown",
   "metadata": {
    "deletable": true,
    "editable": true
   },
   "source": [
    "# PUWP-setup.ipynb\n",
    "Set up parameters for pushing Wordpress. For Python 2."
   ]
  },
  {
   "cell_type": "markdown",
   "metadata": {
    "deletable": true,
    "editable": true
   },
   "source": [
    "## Overview\n",
    "This notebook reads and writes an input parameter file to run push-wordpress.ipynb."
   ]
  },
  {
   "cell_type": "code",
   "execution_count": 2,
   "metadata": {
    "collapsed": false
   },
   "outputs": [
    {
     "data": {
      "text/plain": [
       "['',\n",
       " 'C:\\\\Users\\\\bsouter\\\\AppData\\\\Local\\\\Enthought\\\\Canopy\\\\edm\\\\envs\\\\py27\\\\python27.zip',\n",
       " 'C:\\\\Users\\\\bsouter\\\\AppData\\\\Local\\\\Enthought\\\\Canopy\\\\edm\\\\envs\\\\py27\\\\DLLs',\n",
       " 'C:\\\\Users\\\\bsouter\\\\AppData\\\\Local\\\\Enthought\\\\Canopy\\\\edm\\\\envs\\\\py27\\\\lib',\n",
       " 'C:\\\\Users\\\\bsouter\\\\AppData\\\\Local\\\\Enthought\\\\Canopy\\\\edm\\\\envs\\\\py27\\\\lib\\\\plat-win',\n",
       " 'C:\\\\Users\\\\bsouter\\\\AppData\\\\Local\\\\Enthought\\\\Canopy\\\\edm\\\\envs\\\\py27\\\\lib\\\\lib-tk',\n",
       " 'C:\\\\Users\\\\bsouter\\\\AppData\\\\Local\\\\Enthought\\\\Canopy\\\\edm\\\\envs\\\\py27',\n",
       " 'C:\\\\Users\\\\bsouter\\\\AppData\\\\Local\\\\Enthought\\\\Canopy\\\\edm\\\\envs\\\\py27\\\\lib\\\\site-packages',\n",
       " 'C:\\\\Users\\\\bsouter\\\\AppData\\\\Local\\\\Enthought\\\\Canopy\\\\edm\\\\envs\\\\py27\\\\lib\\\\site-packages\\\\win32',\n",
       " 'C:\\\\Users\\\\bsouter\\\\AppData\\\\Local\\\\Enthought\\\\Canopy\\\\edm\\\\envs\\\\py27\\\\lib\\\\site-packages\\\\win32\\\\lib',\n",
       " 'C:\\\\Users\\\\bsouter\\\\AppData\\\\Local\\\\Enthought\\\\Canopy\\\\edm\\\\envs\\\\py27\\\\lib\\\\site-packages\\\\Pythonwin',\n",
       " 'C:\\\\Users\\\\bsouter\\\\AppData\\\\Local\\\\Enthought\\\\Canopy\\\\edm\\\\envs\\\\py27\\\\lib\\\\site-packages\\\\IPython\\\\extensions',\n",
       " 'C:\\\\Users\\\\bsouter\\\\.ipython']"
      ]
     },
     "execution_count": 2,
     "metadata": {},
     "output_type": "execute_result"
    }
   ],
   "source": [
    "import sys\n",
    "sys.path"
   ]
  },
  {
   "cell_type": "code",
   "execution_count": 10,
   "metadata": {
    "collapsed": false,
    "deletable": true,
    "editable": true
   },
   "outputs": [
    {
     "ename": "ImportError",
     "evalue": "No module named PUWP.lib.paramio",
     "output_type": "error",
     "traceback": [
      "\u001b[1;31m\u001b[0m",
      "\u001b[1;31mImportError\u001b[0mTraceback (most recent call last)",
      "\u001b[1;32m<ipython-input-10-c1696aa42168>\u001b[0m in \u001b[0;36m<module>\u001b[1;34m()\u001b[0m\n\u001b[1;32m----> 1\u001b[1;33m \u001b[1;32mimport\u001b[0m \u001b[0mPUWP\u001b[0m\u001b[1;33m.\u001b[0m\u001b[0mlib\u001b[0m\u001b[1;33m.\u001b[0m\u001b[0mparamio\u001b[0m\u001b[1;33m\u001b[0m\u001b[0m\n\u001b[0m",
      "\u001b[1;31mImportError\u001b[0m: No module named PUWP.lib.paramio"
     ]
    }
   ],
   "source": [
    "import PUWP.lib.paramio"
   ]
  },
  {
   "cell_type": "markdown",
   "metadata": {
    "deletable": true,
    "editable": true
   },
   "source": [
    "## Data"
   ]
  },
  {
   "cell_type": "code",
   "execution_count": null,
   "metadata": {
    "collapsed": false,
    "deletable": true,
    "editable": true
   },
   "outputs": [],
   "source": [
    "data={\n",
    "    '1targetdomain' : { \n",
    "        'label' : 'Target domain: ',\n",
    "        'value' : 'www.example.org' } ,\n",
    "    '2sourcedomain' : { \n",
    "        'label' : 'Source domain: ',\n",
    "        'value'\t: 'test.example.org' } ,\n",
    "    '3targetpath'   : { \n",
    "        'label' : 'Target path: ',\n",
    "        'value'\t: '/var/www/example.org/prod' },\n",
    "    '4sourcepath'   : { \n",
    "        'label' : 'Source path: ',\n",
    "        'value'\t: '/var/www/example.org/test' },\n",
    "    '5deploypath'   : {\t\n",
    "        'label' : 'Deploy path: ',\n",
    "        'value'\t: '/var/www/example.org/deploy' },\n",
    "    '6targetDB'     : { \n",
    "        'label' : 'Target database: ',\n",
    "        'value'\t: 'examplewp_prod ' },\n",
    "    '7sourceDB'     : { \n",
    "        'label' : 'Source database: ',\n",
    "        'value'\t: 'examplewp_test' } \n",
    "}\n",
    "\n",
    "menu = {'R':'[Read input parameters]',\n",
    "       'E':'[E]dit input parameters',\n",
    "       'W':'[W]rite input parameters',\n",
    "       'X':'E[X]it'}\n",
    "\n"
   ]
  },
  {
   "cell_type": "markdown",
   "metadata": {
    "collapsed": true,
    "deletable": true,
    "editable": true
   },
   "source": [
    "## Main"
   ]
  },
  {
   "cell_type": "code",
   "execution_count": 3,
   "metadata": {
    "collapsed": false,
    "deletable": true,
    "editable": true
   },
   "outputs": [
    {
     "name": "stdout",
     "output_type": "stream",
     "text": [
      "\n",
      "Parameters: \n",
      "\n",
      "Target domain:  : www.example.org\n",
      "Source domain:  : test.example.org\n",
      "Target path:  : /var/www/example.org/prod\n",
      "Source path:  : /var/www/example.org/test\n",
      "Deploy path:  : /var/www/example.org/deploy\n",
      "Target database:  : examplewp_prod \n",
      "Source database:  : examplewp_test\n",
      "\n",
      "\n",
      "X : E[X]it\n",
      "R : [Read input parameters]\n",
      "E : [E]dit input parameters\n",
      "W : [W]rite input parameters\n",
      "Choose an option: [E]\n",
      "R\n",
      "Enter parameter filename [defaults.yaml]voyages.yaml\n",
      "\n",
      "Parameters: \n",
      "\n",
      "Target domain:  : voyages.sdss.org\n",
      "Source domain:  : test.voyages.sdss.org\n",
      "Target path:  : /var/www/sdss.org/voyages\n",
      "Source path:  : /var/www/sdss.org/test.voyages\n",
      "Deploy path:  : /var/sss/sdss.org/deploy.voyages\n",
      "Target database:  : voyageswp_prod\n",
      "Source database:  : voyageswp_test\n",
      "\n",
      "\n",
      "X : E[X]it\n",
      "R : [Read input parameters]\n",
      "E : [E]dit input parameters\n",
      "W : [W]rite input parameters\n",
      "Choose an option: [E]\n",
      "\n",
      "\n",
      "Parameters: \n",
      "\n",
      "Target domain:  : voyages.sdss.org\n",
      "Source domain:  : test.voyages.sdss.org\n",
      "Target path:  : /var/www/sdss.org/voyages\n",
      "Source path:  : /var/www/sdss.org/test.voyages\n",
      "Deploy path:  : /var/sss/sdss.org/deploy.voyages\n",
      "Target database:  : voyageswp_prod\n",
      "Source database:  : voyageswp_test\n",
      "\n",
      "Enter a new value or [enter] to keep existing value.\n",
      "\n",
      "Target domain:  : [voyages.sdss.org] \n",
      "Source domain:  : [test.voyages.sdss.org] \n",
      "Target path:  : [/var/www/sdss.org/voyages] \n",
      "Source path:  : [/var/www/sdss.org/test.voyages] \n",
      "Deploy path:  : [/var/sss/sdss.org/deploy.voyages] \n",
      "Target database:  : [voyageswp_prod] \n",
      "Source database:  : [voyageswp_test] \n",
      "\n",
      "\n",
      "\n",
      "Parameters: \n",
      "\n",
      "Target domain:  : voyages.sdss.org\n",
      "Source domain:  : test.voyages.sdss.org\n",
      "Target path:  : /var/www/sdss.org/voyages\n",
      "Source path:  : /var/www/sdss.org/test.voyages\n",
      "Deploy path:  : /var/sss/sdss.org/deploy.voyages\n",
      "Target database:  : voyageswp_prod\n",
      "Source database:  : voyageswp_test\n",
      "\n",
      "\n",
      "X : E[X]it\n",
      "R : [Read input parameters]\n",
      "E : [E]dit input parameters\n",
      "W : [W]rite input parameters\n",
      "Choose an option: [E]\n",
      "X\n"
     ]
    }
   ],
   "source": [
    "# main loop\n",
    "while (True):\n",
    "\n",
    "    # show parameters\n",
    "    PUWPlib.editparam(False,data)\n",
    "    \n",
    "    # show menu\n",
    "    option = PUWPlib.showmenu(menu)\n",
    "    \n",
    "    if (option) == 'R' : \n",
    "        data = PUWPlib.readparam()\n",
    "\n",
    "    if (option) == 'W' : \n",
    "        PUWPlib.writeparam( data )\n",
    "        \n",
    "    if (option) == 'E' : \n",
    "        data = PUWPlib.editparam(True,data)\n",
    "        \n",
    "    if (option) == 'X': break\n",
    "    \n"
   ]
  },
  {
   "cell_type": "code",
   "execution_count": null,
   "metadata": {
    "collapsed": true,
    "deletable": true,
    "editable": true
   },
   "outputs": [],
   "source": []
  }
 ],
 "metadata": {
  "kernelspec": {
   "display_name": "Python 2",
   "language": "python",
   "name": "python2"
  },
  "language_info": {
   "codemirror_mode": {
    "name": "ipython",
    "version": 2
   },
   "file_extension": ".py",
   "mimetype": "text/x-python",
   "name": "python",
   "nbconvert_exporter": "python",
   "pygments_lexer": "ipython2",
   "version": "2.7.13"
  }
 },
 "nbformat": 4,
 "nbformat_minor": 2
}
